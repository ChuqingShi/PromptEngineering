{
 "cells": [
  {
   "cell_type": "code",
   "execution_count": 22,
   "id": "476d0a63-5041-4606-95af-cb48935d8608",
   "metadata": {},
   "outputs": [],
   "source": [
    "import openai\n",
    "import os\n",
    "from dotenv import load_dotenv, find_dotenv\n",
    "\n",
    "_ = load_dotenv(find_dotenv()) # need to have 'OPENAI_API_KEY=...' in the .env file under the working directory\n",
    "\n",
    "openai.api_key  = os.getenv('OPENAI_API_KEY')"
   ]
  },
  {
   "cell_type": "code",
   "execution_count": 2,
   "id": "3e51bec2-3320-4739-9e9f-78dd62bf3fc5",
   "metadata": {},
   "outputs": [],
   "source": [
    "client = openai.OpenAI()\n",
    "\n",
    "def get_completion(prompt, model=\"gpt-4o\"):\n",
    "    messages = [{\"role\": \"user\", \"content\": prompt}]\n",
    "    response = client.chat.completions.create(\n",
    "        model=model,\n",
    "        messages=messages,\n",
    "        temperature=0\n",
    "    )\n",
    "    return response.choices[0].message.content"
   ]
  },
  {
   "cell_type": "markdown",
   "id": "07bf2788-cd38-437e-9c8c-57d5388323d9",
   "metadata": {},
   "source": [
    "# Prompting Principles\n",
    "* Principle 1: Write clear and specific instructions\n",
    "* Principle 2: Give the model time to “think”"
   ]
  },
  {
   "cell_type": "markdown",
   "id": "b1073212-f4e2-4261-85ca-9f8a7b58a9a5",
   "metadata": {},
   "source": [
    "## Principle 1: Write clear and specific instructions\n",
    "### Tactic 1: Use delimiters \n",
    "to clearly indicate distinct parts of the input\n",
    "Delimiters can be anything like:\n",
    "* Triple quotes : \"\"\"\n",
    "* Triple backticks : ```\n",
    "* Triple dashes : ---\n",
    "* Angle brackets : < >\n",
    "* XML tags: `<tag> </tag>`"
   ]
  },
  {
   "cell_type": "code",
   "execution_count": 8,
   "id": "0e68f7ff-c54b-4986-abb9-0a119685d094",
   "metadata": {},
   "outputs": [
    {
     "name": "stderr",
     "output_type": "stream",
     "text": [
      "<>:12: SyntaxWarning: invalid escape sequence '\\ '\n",
      "<>:12: SyntaxWarning: invalid escape sequence '\\ '\n",
      "/var/folders/2t/qpf2pv9d6v1cdzncq1f60x180000gn/T/ipykernel_23097/2731500724.py:12: SyntaxWarning: invalid escape sequence '\\ '\n",
      "  \"\"\"\n"
     ]
    }
   ],
   "source": [
    "text = f\"\"\"\n",
    "You should express what you want a model to do by \\ \n",
    "providing instructions that are as clear and \\ \n",
    "specific as you can possibly make them. \\ \n",
    "This will guide the model towards the desired output, \\ \n",
    "and reduce the chances of receiving irrelevant \\ \n",
    "or incorrect responses. Don't confuse writing a \\ \n",
    "clear prompt with writing a short prompt. \\ \n",
    "In many cases, longer prompts provide more clarity \\ \n",
    "and context for the model, which can lead to \\ \n",
    "more detailed and relevant outputs.\n",
    "\"\"\""
   ]
  },
  {
   "cell_type": "code",
   "execution_count": 9,
   "id": "550826d9-b3a2-4b30-9fbc-ba018df45397",
   "metadata": {},
   "outputs": [
    {
     "data": {
      "text/plain": [
       "str"
      ]
     },
     "execution_count": 9,
     "metadata": {},
     "output_type": "execute_result"
    }
   ],
   "source": [
    "type(text)"
   ]
  },
  {
   "cell_type": "code",
   "execution_count": 10,
   "id": "f4c0ffc6-0402-4d67-837e-2807d5e746a6",
   "metadata": {},
   "outputs": [
    {
     "name": "stdout",
     "output_type": "stream",
     "text": [
      "You should express what you want a model to do by providing instructions that are as clear and specific as you can possibly make them. This will guide the model towards the desired output, and reduce the chances of receiving irrelevant or incorrect responses. Don't confuse writing a clear prompt with writing a short prompt. In many cases, longer prompts provide more clarity and context for the model, which can lead to more detailed and relevant outputs.\n"
     ]
    }
   ],
   "source": [
    "# Removing all backslashes+spaces\n",
    "text = text.replace(\"\\\\ \", \"\")\n",
    "\n",
    "# Convert to a single line by replacing newline characters\n",
    "text = text.replace(\"\\n\", \"\")\n",
    "\n",
    "print(text)"
   ]
  },
  {
   "cell_type": "code",
   "execution_count": 11,
   "id": "2f9fc275-56e9-49f6-9cd8-4f0a22662b44",
   "metadata": {},
   "outputs": [
    {
     "name": "stdout",
     "output_type": "stream",
     "text": [
      "\n",
      "Summarize the text delimited by triple backticks into a single sentence.\n",
      "```You should express what you want a model to do by providing instructions that are as clear and specific as you can possibly make them. This will guide the model towards the desired output, and reduce the chances of receiving irrelevant or incorrect responses. Don't confuse writing a clear prompt with writing a short prompt. In many cases, longer prompts provide more clarity and context for the model, which can lead to more detailed and relevant outputs.```\n",
      "\n"
     ]
    },
    {
     "name": "stderr",
     "output_type": "stream",
     "text": [
      "<>:5: SyntaxWarning: invalid escape sequence '\\ '\n",
      "<>:5: SyntaxWarning: invalid escape sequence '\\ '\n",
      "/var/folders/2t/qpf2pv9d6v1cdzncq1f60x180000gn/T/ipykernel_23097/215768374.py:5: SyntaxWarning: invalid escape sequence '\\ '\n",
      "  \"\"\"\n"
     ]
    }
   ],
   "source": [
    "prompt = f\"\"\"\n",
    "Summarize the text delimited by triple backticks \\ \n",
    "into a single sentence.\n",
    "```{text}```\n",
    "\"\"\"\n",
    "# Removing all backslashes+space+newline\n",
    "prompt = prompt.replace(\"\\\\ \\n\", \"\")\n",
    "\n",
    "print(prompt)"
   ]
  },
  {
   "cell_type": "code",
   "execution_count": 6,
   "id": "51ac1ae9-c10b-43c3-98e9-f893604a0a4a",
   "metadata": {},
   "outputs": [
    {
     "name": "stdout",
     "output_type": "stream",
     "text": [
      "To achieve the desired output from a model, provide clear and specific instructions, as longer prompts often offer better clarity and context, reducing irrelevant or incorrect responses.\n"
     ]
    }
   ],
   "source": [
    "response = get_completion(prompt)\n",
    "print(response)"
   ]
  },
  {
   "cell_type": "markdown",
   "id": "242621ae-1e5c-4f2e-a9c4-bfba4f98245c",
   "metadata": {},
   "source": [
    "### Tactic 2: Ask for a structured output\n",
    "* JSON, HTML"
   ]
  },
  {
   "cell_type": "code",
   "execution_count": 12,
   "id": "df87f10b-8b85-4356-bad9-7a8c360da320",
   "metadata": {},
   "outputs": [
    {
     "name": "stderr",
     "output_type": "stream",
     "text": [
      "<>:6: SyntaxWarning: invalid escape sequence '\\ '\n",
      "<>:6: SyntaxWarning: invalid escape sequence '\\ '\n",
      "/var/folders/2t/qpf2pv9d6v1cdzncq1f60x180000gn/T/ipykernel_23097/1713482535.py:6: SyntaxWarning: invalid escape sequence '\\ '\n",
      "  \"\"\"\n"
     ]
    },
    {
     "name": "stdout",
     "output_type": "stream",
     "text": [
      "```json\n",
      "[\n",
      "    {\n",
      "        \"book_id\": 1,\n",
      "        \"title\": \"Whispers of the Forgotten Forest\",\n",
      "        \"author\": \"Elara Moonstone\",\n",
      "        \"genre\": \"Fantasy\"\n",
      "    },\n",
      "    {\n",
      "        \"book_id\": 2,\n",
      "        \"title\": \"The Quantum Paradox\",\n",
      "        \"author\": \"Dr. Orion Vega\",\n",
      "        \"genre\": \"Science Fiction\"\n",
      "    },\n",
      "    {\n",
      "        \"book_id\": 3,\n",
      "        \"title\": \"Echoes of a Silent Heart\",\n",
      "        \"author\": \"Lila Seraphine\",\n",
      "        \"genre\": \"Romance\"\n",
      "    }\n",
      "]\n",
      "```\n"
     ]
    }
   ],
   "source": [
    "prompt = f\"\"\"\n",
    "Generate a list of three made-up book titles along \\ \n",
    "with their authors and genres. \n",
    "Provide them in JSON format with the following keys: \n",
    "book_id, title, author, genre.\n",
    "\"\"\"\n",
    "response = get_completion(prompt)\n",
    "print(response)"
   ]
  },
  {
   "cell_type": "code",
   "execution_count": 13,
   "id": "ec920209-a5b3-40e5-823c-e6b91b0e2b19",
   "metadata": {},
   "outputs": [
    {
     "name": "stderr",
     "output_type": "stream",
     "text": [
      "<>:6: SyntaxWarning: invalid escape sequence '\\ '\n",
      "<>:6: SyntaxWarning: invalid escape sequence '\\ '\n",
      "/var/folders/2t/qpf2pv9d6v1cdzncq1f60x180000gn/T/ipykernel_23097/1713482535.py:6: SyntaxWarning: invalid escape sequence '\\ '\n",
      "  \"\"\"\n"
     ]
    },
    {
     "name": "stdout",
     "output_type": "stream",
     "text": [
      "```json\n",
      "[\n",
      "    {\n",
      "        \"book_id\": 1,\n",
      "        \"title\": \"Whispers of the Forgotten Forest\",\n",
      "        \"author\": \"Elara Moonstone\",\n",
      "        \"genre\": \"Fantasy\"\n",
      "    },\n",
      "    {\n",
      "        \"book_id\": 2,\n",
      "        \"title\": \"The Quantum Paradox\",\n",
      "        \"author\": \"Dr. Orion Vega\",\n",
      "        \"genre\": \"Science Fiction\"\n",
      "    },\n",
      "    {\n",
      "        \"book_id\": 3,\n",
      "        \"title\": \"Echoes of a Silent City\",\n",
      "        \"author\": \"Mira Solstice\",\n",
      "        \"genre\": \"Mystery\"\n",
      "    }\n",
      "]\n",
      "```\n"
     ]
    }
   ],
   "source": [
    "prompt = f\"\"\"\n",
    "Generate a list of three made-up book titles along \\ \n",
    "with their authors and genres. \n",
    "Provide them in JSON format with the following keys: \n",
    "book_id, title, author, genre.\n",
    "\"\"\"\n",
    "response = get_completion(prompt)\n",
    "print(response)"
   ]
  },
  {
   "cell_type": "markdown",
   "id": "5b7bef8a-77b6-435e-b1dd-b4d9b580dd79",
   "metadata": {},
   "source": [
    "### Tactic 3: Check whether conditions are satisfied\n",
    "Check assumptions required to do the task."
   ]
  },
  {
   "cell_type": "code",
   "execution_count": 14,
   "id": "71006468-108e-4d39-8af6-955d165f326c",
   "metadata": {},
   "outputs": [
    {
     "name": "stderr",
     "output_type": "stream",
     "text": [
      "<>:11: SyntaxWarning: invalid escape sequence '\\ '\n",
      "<>:26: SyntaxWarning: invalid escape sequence '\\ '\n",
      "<>:11: SyntaxWarning: invalid escape sequence '\\ '\n",
      "<>:26: SyntaxWarning: invalid escape sequence '\\ '\n",
      "/var/folders/2t/qpf2pv9d6v1cdzncq1f60x180000gn/T/ipykernel_23097/2688751094.py:11: SyntaxWarning: invalid escape sequence '\\ '\n",
      "  \"\"\"\n",
      "/var/folders/2t/qpf2pv9d6v1cdzncq1f60x180000gn/T/ipykernel_23097/2688751094.py:26: SyntaxWarning: invalid escape sequence '\\ '\n",
      "  \"\"\"\n"
     ]
    },
    {
     "name": "stdout",
     "output_type": "stream",
     "text": [
      "Completion for Text 1:\n",
      "Step 1 - Get some water boiling.  \n",
      "Step 2 - Grab a cup and put a tea bag in it.  \n",
      "Step 3 - Once the water is hot enough, pour it over the tea bag.  \n",
      "Step 4 - Let it sit for a bit so the tea can steep.  \n",
      "Step 5 - After a few minutes, take out the tea bag.  \n",
      "Step 6 - If you like, add some sugar or milk to taste.  \n",
      "Step 7 - Enjoy your delicious cup of tea.\n"
     ]
    }
   ],
   "source": [
    "text_1 = f\"\"\"\n",
    "Making a cup of tea is easy! First, you need to get some \\ \n",
    "water boiling. While that's happening, \\ \n",
    "grab a cup and put a tea bag in it. Once the water is \\ \n",
    "hot enough, just pour it over the tea bag. \\ \n",
    "Let it sit for a bit so the tea can steep. After a \\ \n",
    "few minutes, take out the tea bag. If you \\ \n",
    "like, you can add some sugar or milk to taste. \\ \n",
    "And that's it! You've got yourself a delicious \\ \n",
    "cup of tea to enjoy.\n",
    "\"\"\"\n",
    "prompt = f\"\"\"\n",
    "You will be provided with text delimited by triple quotes. \n",
    "If it contains a sequence of instructions, \\ \n",
    "re-write those instructions in the following format:\n",
    "\n",
    "Step 1 - ...\n",
    "Step 2 - ...\n",
    "...\n",
    "Step N - ...\n",
    "\n",
    "If the text does not contain a sequence of instructions, \\ \n",
    "then simply write \\\"No steps provided.\\\"\n",
    "\n",
    "\\\"\\\"\\\"{text_1}\\\"\\\"\\\"\n",
    "\"\"\"\n",
    "response = get_completion(prompt)\n",
    "print(\"Completion for Text 1:\")\n",
    "print(response)"
   ]
  },
  {
   "cell_type": "markdown",
   "id": "a63ed030-6301-4603-8742-d993df6026c2",
   "metadata": {},
   "source": [
    "### Tactic 4: \"Few-shot\" prompting\n",
    "Give successful examples of completing tasks.\n",
    "\n",
    "Then ask model to perform the task."
   ]
  },
  {
   "cell_type": "code",
   "execution_count": 15,
   "id": "ff8cfaff-9a51-45bb-a078-f07da3e1aa78",
   "metadata": {},
   "outputs": [
    {
     "name": "stderr",
     "output_type": "stream",
     "text": [
      "<>:12: SyntaxWarning: invalid escape sequence '\\ '\n",
      "<>:12: SyntaxWarning: invalid escape sequence '\\ '\n",
      "/var/folders/2t/qpf2pv9d6v1cdzncq1f60x180000gn/T/ipykernel_23097/2238455314.py:12: SyntaxWarning: invalid escape sequence '\\ '\n",
      "  \"\"\"\n"
     ]
    },
    {
     "name": "stdout",
     "output_type": "stream",
     "text": [
      "<grandparent>: The mighty oak stands tall through countless storms, its roots digging deeper with each gust of wind; the phoenix rises anew from its own ashes, embracing each rebirth with unwavering spirit; the mountain endures the test of time, its peaks and valleys shaped by the relentless forces of nature.\n"
     ]
    }
   ],
   "source": [
    "prompt = f\"\"\"\n",
    "Your task is to answer in a consistent style.\n",
    "\n",
    "<child>: Teach me about patience.\n",
    "\n",
    "<grandparent>: The river that carves the deepest \\ \n",
    "valley flows from a modest spring; the \\ \n",
    "grandest symphony originates from a single note; \\ \n",
    "the most intricate tapestry begins with a solitary thread.\n",
    "\n",
    "<child>: Teach me about resilience.\n",
    "\"\"\"\n",
    "response = get_completion(prompt)\n",
    "print(response)"
   ]
  },
  {
   "cell_type": "markdown",
   "id": "91c5b739-0e32-4193-a138-b38f16ec27b0",
   "metadata": {},
   "source": [
    "## Principle 2: Give the model time to “think” \n",
    "\n",
    "### Tactic 1: Specify the steps to complete a task"
   ]
  },
  {
   "cell_type": "code",
   "execution_count": 16,
   "id": "f10ba830-e9bc-493d-a8e1-f64661d63e21",
   "metadata": {},
   "outputs": [
    {
     "name": "stderr",
     "output_type": "stream",
     "text": [
      "<>:11: SyntaxWarning: invalid escape sequence '\\ '\n",
      "<>:11: SyntaxWarning: invalid escape sequence '\\ '\n",
      "/var/folders/2t/qpf2pv9d6v1cdzncq1f60x180000gn/T/ipykernel_23097/99030377.py:11: SyntaxWarning: invalid escape sequence '\\ '\n",
      "  \"\"\"\n"
     ]
    },
    {
     "name": "stdout",
     "output_type": "stream",
     "text": [
      "Completion for prompt 1:\n",
      "1 - Siblings Jack and Jill embarked on a quest to fetch water from a hilltop well, but after Jack tripped and both tumbled down, they returned home slightly battered yet undeterred in their adventurous spirits.\n",
      "\n",
      "2 - Les frères et sœurs Jack et Jill se sont lancés dans une quête pour aller chercher de l'eau à un puits au sommet d'une colline, mais après que Jack ait trébuché et que tous deux aient dévalé la pente, ils sont rentrés chez eux légèrement meurtris mais toujours déterminés dans leur esprit d'aventure.\n",
      "\n",
      "3 - Jack, Jill\n",
      "\n",
      "4 - \n",
      "```json\n",
      "{\n",
      "  \"french_summary\": \"Les frères et sœurs Jack et Jill se sont lancés dans une quête pour aller chercher de l'eau à un puits au sommet d'une colline, mais après que Jack ait trébuché et que tous deux aient dévalé la pente, ils sont rentrés chez eux légèrement meurtris mais toujours déterminés dans leur esprit d'aventure.\",\n",
      "  \"num_names\": 2\n",
      "}\n",
      "```\n"
     ]
    }
   ],
   "source": [
    "text = f\"\"\"\n",
    "In a charming village, siblings Jack and Jill set out on \\ \n",
    "a quest to fetch water from a hilltop \\ \n",
    "well. As they climbed, singing joyfully, misfortune \\ \n",
    "struck—Jack tripped on a stone and tumbled \\ \n",
    "down the hill, with Jill following suit. \\ \n",
    "Though slightly battered, the pair returned home to \\ \n",
    "comforting embraces. Despite the mishap, \\ \n",
    "their adventurous spirits remained undimmed, and they \\ \n",
    "continued exploring with delight.\n",
    "\"\"\"\n",
    "# example 1\n",
    "prompt_1 = f\"\"\"\n",
    "Perform the following actions: \n",
    "1 - Summarize the following text delimited by triple \\\n",
    "backticks with 1 sentence.\n",
    "2 - Translate the summary into French.\n",
    "3 - List each name in the French summary.\n",
    "4 - Output a json object that contains the following \\\n",
    "keys: french_summary, num_names.\n",
    "\n",
    "Separate your answers with line breaks.\n",
    "\n",
    "Text:\n",
    "```{text}```\n",
    "\"\"\"\n",
    "response = get_completion(prompt_1)\n",
    "print(\"Completion for prompt 1:\")\n",
    "print(response)"
   ]
  },
  {
   "cell_type": "code",
   "execution_count": 17,
   "id": "e1a716db-977e-4114-bdbc-b3417ec9f80f",
   "metadata": {},
   "outputs": [
    {
     "name": "stdout",
     "output_type": "stream",
     "text": [
      "\n",
      "Completion for prompt 2:\n",
      "Summary: Siblings Jack and Jill embarked on a quest to fetch water from a hilltop well, but after Jack tripped and fell, followed by Jill, they returned home slightly battered yet undeterred in their adventurous spirits.\n",
      "\n",
      "Translation: Les frères et sœurs Jack et Jill se sont lancés dans une quête pour chercher de l'eau à un puits au sommet d'une colline, mais après que Jack ait trébuché et soit tombé, suivi par Jill, ils sont rentrés chez eux légèrement meurtris mais toujours déterminés dans leur esprit d'aventure.\n",
      "\n",
      "Names: Jack, Jill\n",
      "\n",
      "Output JSON: {\"french_summary\": \"Les frères et sœurs Jack et Jill se sont lancés dans une quête pour chercher de l'eau à un puits au sommet d'une colline, mais après que Jack ait trébuché et soit tombé, suivi par Jill, ils sont rentrés chez eux légèrement meurtris mais toujours déterminés dans leur esprit d'aventure.\", \"num_names\": 2}\n"
     ]
    }
   ],
   "source": [
    "# example 2: ask for output in a specified format\n",
    "prompt_2 = f\"\"\"\n",
    "Your task is to perform the following actions: \n",
    "1 - Summarize the following text delimited by \n",
    "  <> with 1 sentence.\n",
    "2 - Translate the summary into French.\n",
    "3 - List each name in the French summary.\n",
    "4 - Output a json object that contains the \n",
    "  following keys: french_summary, num_names.\n",
    "\n",
    "Use the following format:\n",
    "Text: <text to summarize>\n",
    "Summary: <summary>\n",
    "Translation: <summary translation>\n",
    "Names: <list of names in summary>\n",
    "Output JSON: <json with summary and num_names>\n",
    "\n",
    "Text: <{text}>\n",
    "\"\"\"\n",
    "response = get_completion(prompt_2)\n",
    "print(\"\\nCompletion for prompt 2:\")\n",
    "print(response)"
   ]
  },
  {
   "cell_type": "markdown",
   "id": "1c64eeb3-4d4d-42e0-89f1-30db0daf9959",
   "metadata": {},
   "source": [
    "### Tactic 2: Instruct the model to work out its own solution before rushing to a conclusion"
   ]
  },
  {
   "cell_type": "code",
   "execution_count": 19,
   "id": "d04287b8-2826-4613-8eae-57949500637b",
   "metadata": {},
   "outputs": [
    {
     "name": "stderr",
     "output_type": "stream",
     "text": [
      "<>:22: SyntaxWarning: invalid escape sequence '\\ '\n",
      "<>:22: SyntaxWarning: invalid escape sequence '\\ '\n",
      "/var/folders/2t/qpf2pv9d6v1cdzncq1f60x180000gn/T/ipykernel_23097/1265626465.py:22: SyntaxWarning: invalid escape sequence '\\ '\n",
      "  \"\"\"\n"
     ]
    },
    {
     "name": "stdout",
     "output_type": "stream",
     "text": [
      "The student's solution is mostly correct, but there is a small mistake in the maintenance cost calculation. The maintenance cost should be $100,000 plus $10 per square foot, not $100 per square foot. Therefore, the maintenance cost should be \\(100,000 + 10x\\).\n",
      "\n",
      "Let's correct the solution:\n",
      "\n",
      "1. Land cost: \\(100x\\)\n",
      "2. Solar panel cost: \\(250x\\)\n",
      "3. Maintenance cost: \\(100,000 + 10x\\)\n",
      "\n",
      "Total cost: \n",
      "\\[100x + 250x + 100,000 + 10x = 360x + 100,000\\]\n",
      "\n",
      "So, the correct total cost for the first year of operations as a function of the number of square feet \\(x\\) is \\(360x + 100,000\\).\n"
     ]
    }
   ],
   "source": [
    "prompt = f\"\"\"\n",
    "Determine if the student's solution is correct or not.\n",
    "\n",
    "Question:\n",
    "I'm building a solar power installation and I need \\\n",
    " help working out the financials. \n",
    "- Land costs $100 / square foot\n",
    "- I can buy solar panels for $250 / square foot\n",
    "- I negotiated a contract for maintenance that will cost \\ \n",
    "me a flat $100k per year, and an additional $10 / square \\\n",
    "foot\n",
    "What is the total cost for the first year of operations \n",
    "as a function of the number of square feet.\n",
    "\n",
    "Student's Solution:\n",
    "Let x be the size of the installation in square feet.\n",
    "Costs:\n",
    "1. Land cost: 100x\n",
    "2. Solar panel cost: 250x\n",
    "3. Maintenance cost: 100,000 + 100x\n",
    "Total cost: 100x + 250x + 100,000 + 100x = 450x + 100,000\n",
    "\"\"\"\n",
    "response = get_completion(prompt)\n",
    "print(response)"
   ]
  },
  {
   "cell_type": "code",
   "execution_count": 20,
   "id": "d772ad6f-5de5-4aaf-bfe0-2a270cef6426",
   "metadata": {},
   "outputs": [
    {
     "name": "stderr",
     "output_type": "stream",
     "text": [
      "<>:56: SyntaxWarning: invalid escape sequence '\\ '\n",
      "<>:56: SyntaxWarning: invalid escape sequence '\\ '\n",
      "/var/folders/2t/qpf2pv9d6v1cdzncq1f60x180000gn/T/ipykernel_23097/1709959923.py:56: SyntaxWarning: invalid escape sequence '\\ '\n",
      "  \"\"\"\n"
     ]
    },
    {
     "name": "stdout",
     "output_type": "stream",
     "text": [
      "```\n",
      "Let x be the size of the installation in square feet.\n",
      "Costs:\n",
      "1. Land cost: 100x (since land costs $100 per square foot)\n",
      "2. Solar panel cost: 250x (since solar panels cost $250 per square foot)\n",
      "3. Maintenance cost: 100,000 + 10x (since the maintenance costs a flat $100,000 per year plus $10 per square foot)\n",
      "\n",
      "Total cost for the first year:\n",
      "= Land cost + Solar panel cost + Maintenance cost\n",
      "= 100x + 250x + (100,000 + 10x)\n",
      "= 100x + 250x + 100,000 + 10x\n",
      "= 360x + 100,000\n",
      "```\n",
      "Is the student's solution the same as actual solution just calculated:\n",
      "```\n",
      "No\n",
      "```\n",
      "Student grade:\n",
      "```\n",
      "Incorrect\n",
      "```\n"
     ]
    }
   ],
   "source": [
    "prompt = f\"\"\"\n",
    "Your task is to determine if the student's solution \\\n",
    "is correct or not.\n",
    "To solve the problem do the following:\n",
    "- First, work out your own solution to the problem including the final total. \n",
    "- Then compare your solution to the student's solution \\ \n",
    "and evaluate if the student's solution is correct or not. \n",
    "Don't decide if the student's solution is correct until \n",
    "you have done the problem yourself.\n",
    "\n",
    "Use the following format:\n",
    "Question:\n",
    "```\n",
    "question here\n",
    "```\n",
    "Student's solution:\n",
    "```\n",
    "student's solution here\n",
    "```\n",
    "Actual solution:\n",
    "```\n",
    "steps to work out the solution and your solution here\n",
    "```\n",
    "Is the student's solution the same as actual solution \\\n",
    "just calculated:\n",
    "```\n",
    "yes or no\n",
    "```\n",
    "Student grade:\n",
    "```\n",
    "correct or incorrect\n",
    "```\n",
    "\n",
    "Question:\n",
    "```\n",
    "I'm building a solar power installation and I need help \\\n",
    "working out the financials. \n",
    "- Land costs $100 / square foot\n",
    "- I can buy solar panels for $250 / square foot\n",
    "- I negotiated a contract for maintenance that will cost \\\n",
    "me a flat $100k per year, and an additional $10 / square \\\n",
    "foot\n",
    "What is the total cost for the first year of operations \\\n",
    "as a function of the number of square feet.\n",
    "``` \n",
    "Student's solution:\n",
    "```\n",
    "Let x be the size of the installation in square feet.\n",
    "Costs:\n",
    "1. Land cost: 100x\n",
    "2. Solar panel cost: 250x\n",
    "3. Maintenance cost: 100,000 + 100x\n",
    "Total cost: 100x + 250x + 100,000 + 100x = 450x + 100,000\n",
    "```\n",
    "Actual solution:\n",
    "\"\"\"\n",
    "response = get_completion(prompt)\n",
    "print(response)"
   ]
  },
  {
   "cell_type": "markdown",
   "id": "4570342c-4194-4471-ab9a-8edbbc1b4fcb",
   "metadata": {},
   "source": [
    "# Model Limitations: Hallucinations\n",
    "Makes statements that sound plausible but are not true\n",
    "\n",
    "### Tactic to reduce halucinations:\n",
    "First find relevant information,\n",
    "\n",
    "then answer the question based on the relevant information."
   ]
  },
  {
   "cell_type": "code",
   "execution_count": 21,
   "id": "ac876bcf-0a26-4a42-a8be-fac11588228e",
   "metadata": {},
   "outputs": [
    {
     "name": "stdout",
     "output_type": "stream",
     "text": [
      "As of my last update in October 2023, there is no specific product known as the \"AeroGlide UltraSlim Smart Toothbrush by Boie.\" It's possible that this product was released after my last update or that it might be a fictional or conceptual product. \n",
      "\n",
      "Boie is known for producing eco-friendly personal care products, including toothbrushes made from sustainable materials. Their products often focus on being environmentally friendly, with features like replaceable heads to reduce waste. If the AeroGlide UltraSlim Smart Toothbrush is a new product, it might incorporate smart technology for enhanced dental care, such as connectivity to a smartphone app for tracking brushing habits, but this is speculative.\n",
      "\n",
      "For the most accurate and up-to-date information, I recommend checking Boie's official website or recent press releases.\n"
     ]
    }
   ],
   "source": [
    "prompt = f\"\"\"\n",
    "Tell me about AeroGlide UltraSlim Smart Toothbrush by Boie\n",
    "\"\"\"\n",
    "response = get_completion(prompt)\n",
    "print(response)"
   ]
  },
  {
   "cell_type": "code",
   "execution_count": null,
   "id": "6b4b427a-5bc1-4150-bd28-fe9365b48a86",
   "metadata": {},
   "outputs": [],
   "source": []
  }
 ],
 "metadata": {
  "kernelspec": {
   "display_name": "Python 3 (ipykernel)",
   "language": "python",
   "name": "python3"
  },
  "language_info": {
   "codemirror_mode": {
    "name": "ipython",
    "version": 3
   },
   "file_extension": ".py",
   "mimetype": "text/x-python",
   "name": "python",
   "nbconvert_exporter": "python",
   "pygments_lexer": "ipython3",
   "version": "3.13.2"
  }
 },
 "nbformat": 4,
 "nbformat_minor": 5
}
